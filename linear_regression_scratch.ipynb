{
 "cells": [
  {
   "cell_type": "markdown",
   "metadata": {},
   "source": [
    "# Full regression from scratch"
   ]
  },
  {
   "cell_type": "code",
   "execution_count": 2,
   "metadata": {},
   "outputs": [],
   "source": [
    "import numpy as np\n",
    "import matplotlib.pyplot as plt\n",
    "\n",
    "# Given data\n",
    "Y = np.array([\n",
    "    372,\n",
    "    206,\n",
    "    175,\n",
    "    154,\n",
    "    136,\n",
    "    112,\n",
    "    55,\n",
    "    45,\n",
    "    222,\n",
    "    170\n",
    "])\n",
    "\n",
    "X = np.array([\n",
    "    [1, 46, 162],\n",
    "    [1, 55, 233],\n",
    "    [1, 61, 232],\n",
    "    [1, 66, 232],\n",
    "    [1, 71, 231],\n",
    "    [1, 71, 237],\n",
    "    [1, 81, 224],\n",
    "    [1, 86, 219],\n",
    "    [1, 53, 203],\n",
    "    [1, 60, 188]\n",
    "])\n",
    "\n"
   ]
  },
  {
   "cell_type": "code",
   "execution_count": 19,
   "metadata": {},
   "outputs": [],
   "source": [
    "n =len(Y)\n",
    "p=X.shape[1]\n",
    "# Compute the regression coefficients using the normal equation\n",
    "C = np.linalg.inv(X.T @ X)\n",
    "B = C @ X.T @ Y\n",
    "H = X @ C @ X.T\n",
    "# Compute predicted Y values\n",
    "Y_pred = X @ B\n",
    "e = Y- Y_pred"
   ]
  },
  {
   "cell_type": "code",
   "execution_count": 4,
   "metadata": {},
   "outputs": [
    {
     "data": {
      "text/html": [
       "<div>\n",
       "<style scoped>\n",
       "    .dataframe tbody tr th:only-of-type {\n",
       "        vertical-align: middle;\n",
       "    }\n",
       "\n",
       "    .dataframe tbody tr th {\n",
       "        vertical-align: top;\n",
       "    }\n",
       "\n",
       "    .dataframe thead th {\n",
       "        text-align: right;\n",
       "    }\n",
       "</style>\n",
       "<table border=\"1\" class=\"dataframe\">\n",
       "  <thead>\n",
       "    <tr style=\"text-align: right;\">\n",
       "      <th></th>\n",
       "      <th>Y</th>\n",
       "      <th>Y Pred</th>\n",
       "      <th>e</th>\n",
       "    </tr>\n",
       "  </thead>\n",
       "  <tbody>\n",
       "    <tr>\n",
       "      <th>0</th>\n",
       "      <td>372</td>\n",
       "      <td>329.528946</td>\n",
       "      <td>42.471054</td>\n",
       "    </tr>\n",
       "    <tr>\n",
       "      <th>1</th>\n",
       "      <td>206</td>\n",
       "      <td>208.090335</td>\n",
       "      <td>-2.090335</td>\n",
       "    </tr>\n",
       "    <tr>\n",
       "      <th>2</th>\n",
       "      <td>175</td>\n",
       "      <td>173.321416</td>\n",
       "      <td>1.678584</td>\n",
       "    </tr>\n",
       "    <tr>\n",
       "      <th>3</th>\n",
       "      <td>154</td>\n",
       "      <td>143.550935</td>\n",
       "      <td>10.449065</td>\n",
       "    </tr>\n",
       "    <tr>\n",
       "      <th>4</th>\n",
       "      <td>136</td>\n",
       "      <td>114.736113</td>\n",
       "      <td>21.263887</td>\n",
       "    </tr>\n",
       "    <tr>\n",
       "      <th>5</th>\n",
       "      <td>112</td>\n",
       "      <td>109.002163</td>\n",
       "      <td>2.997837</td>\n",
       "    </tr>\n",
       "    <tr>\n",
       "      <th>6</th>\n",
       "      <td>55</td>\n",
       "      <td>61.884760</td>\n",
       "      <td>-6.884760</td>\n",
       "    </tr>\n",
       "    <tr>\n",
       "      <th>7</th>\n",
       "      <td>45</td>\n",
       "      <td>36.892571</td>\n",
       "      <td>8.107429</td>\n",
       "    </tr>\n",
       "    <tr>\n",
       "      <th>8</th>\n",
       "      <td>222</td>\n",
       "      <td>248.668279</td>\n",
       "      <td>-26.668279</td>\n",
       "    </tr>\n",
       "    <tr>\n",
       "      <th>9</th>\n",
       "      <td>170</td>\n",
       "      <td>221.324482</td>\n",
       "      <td>-51.324482</td>\n",
       "    </tr>\n",
       "  </tbody>\n",
       "</table>\n",
       "</div>"
      ],
      "text/plain": [
       "     Y      Y Pred          e\n",
       "0  372  329.528946  42.471054\n",
       "1  206  208.090335  -2.090335\n",
       "2  175  173.321416   1.678584\n",
       "3  154  143.550935  10.449065\n",
       "4  136  114.736113  21.263887\n",
       "5  112  109.002163   2.997837\n",
       "6   55   61.884760  -6.884760\n",
       "7   45   36.892571   8.107429\n",
       "8  222  248.668279 -26.668279\n",
       "9  170  221.324482 -51.324482"
      ]
     },
     "execution_count": 4,
     "metadata": {},
     "output_type": "execute_result"
    }
   ],
   "source": [
    "import pandas as pd\n",
    "\n",
    "actual = pd.DataFrame(Y, columns=[\"Y\"])\n",
    "prediction = pd.DataFrame(Y_pred, columns=[\"Y Pred\"])\n",
    "error =pd.DataFrame(e, columns=[\"e\"])\n",
    "comparison = pd.concat([actual,prediction, error], axis=1)\n",
    "comparison"
   ]
  },
  {
   "cell_type": "code",
   "execution_count": 24,
   "metadata": {},
   "outputs": [
    {
     "name": "stdout",
     "output_type": "stream",
     "text": [
      "variance 583.9830269395452\n"
     ]
    }
   ],
   "source": [
    "variance = (e.T @ e ) / n\n",
    "print(\"variance\",variance)"
   ]
  },
  {
   "cell_type": "markdown",
   "metadata": {},
   "source": [
    "### Model Evaluation"
   ]
  },
  {
   "cell_type": "code",
   "execution_count": null,
   "metadata": {},
   "outputs": [],
   "source": [
    "# Residual Sum of Squares (RSS)\n",
    "RSS = np.sum((Y - Y_pred) ** 2)\n",
    "\n",
    "# Total Sum of Squares (TSS)\n",
    "TSS = np.sum((Y - np.mean(Y)) ** 2)\n",
    "\n",
    "\n",
    "# Residual Standard Error (RSE)\n",
    "RSE = np.sqrt(RSS / (n - p))\n",
    "\n",
    "# Coefficient of determination\n",
    "R_square = 1 - RSS/TSS\n",
    "\n",
    "# F-test GENERAL, TESTING WHOLE MODEL\n",
    "F = ((TSS - RSS) / (p - 1)) / (RSS / (n - p))"
   ]
  },
  {
   "cell_type": "code",
   "execution_count": 28,
   "metadata": {},
   "outputs": [
    {
     "name": "stdout",
     "output_type": "stream",
     "text": [
      "\n",
      "--- t-Student Test for Coefficients ---\n",
      "B[0]: 758.2340, SE: 85.4649, t: 8.8719, p-value: 0.0000\n",
      "B[1]: -5.9541, SE: 0.9162, t: -6.4988, p-value: 0.0003\n",
      "B[2]: -0.9557, SE: 0.4688, t: -2.0387, p-value: 0.0809\n"
     ]
    }
   ],
   "source": [
    "# ---- t-Student Test for the Coefficients ----\n",
    "from scipy.stats import t\n",
    "\n",
    "# Variance-covariance matrix of beta estimates:\n",
    "# Var(B) = RSE^2 * (X^T X)^{-1}\n",
    "var_beta = RSE**2 * np.linalg.inv(X.T @ X)\n",
    "\n",
    "# Standard errors for each coefficient (sqrt of diagonal elements):\n",
    "se_beta = np.sqrt(np.diag(var_beta))\n",
    "\n",
    "# t-statistic for each coefficient:\n",
    "# t_i = B_i / SE(B_i)\n",
    "t_stats = B / se_beta\n",
    "\n",
    "# Degrees of freedom for residuals:\n",
    "df = n - p\n",
    "\n",
    "# Two-tailed p-values for the t-statistics:\n",
    "p_values = 2 * (1 - t.cdf(np.abs(t_stats), df))\n",
    "\n",
    "print(\"\\n--- t-Student Test for Coefficients ---\")\n",
    "for i in range(len(B)):\n",
    "    print(f\"B[{i}]: {B[i]:.4f}, SE: {se_beta[i]:.4f}, t: {t_stats[i]:.4f}, p-value: {p_values[i]:.4f}\")\n"
   ]
  },
  {
   "cell_type": "markdown",
   "metadata": {},
   "source": [
    "### Model selection\n"
   ]
  },
  {
   "cell_type": "code",
   "execution_count": 27,
   "metadata": {},
   "outputs": [
    {
     "name": "stdout",
     "output_type": "stream",
     "text": [
      "\n",
      "AIC: 100.07748985355539\n",
      "AICc: 105.41082318688872\n"
     ]
    }
   ],
   "source": [
    "# Akaike information criterion, smaller the better.\n",
    "# Also corrected version, improved for small samples\n",
    "\n",
    "# ---- AIC and AICc ----\n",
    "# AIC = n [ ln(2π * RSS/n) + 1 ] + 2 (p + 1)\n",
    "AIC = n * (np.log(2 * np.pi * (RSS / n)) + 1) + 2 * (p + 1)\n",
    "\n",
    "# AICc = AIC + Correction\n",
    "# AICc = n [ ln(2π * RSS/n) + 1 ] + 2 (p + 1) * n / (n - p - 1)\n",
    "# or equivalently:\n",
    "# AICc = AIC + 2(p+1)(p+2)/(n - p - 1) for typical derivations,\n",
    "# but we'll directly use the formula given:\n",
    "AICc = n * (np.log(2 * np.pi * (RSS / n)) + 1) + 2 * (p + 1) * (n / (n - p - 1))\n",
    "\n",
    "print(\"\\nAIC:\", AIC)\n",
    "print(\"AICc:\", AICc)"
   ]
  }
 ],
 "metadata": {
  "kernelspec": {
   "display_name": ".venv",
   "language": "python",
   "name": "python3"
  },
  "language_info": {
   "codemirror_mode": {
    "name": "ipython",
    "version": 3
   },
   "file_extension": ".py",
   "mimetype": "text/x-python",
   "name": "python",
   "nbconvert_exporter": "python",
   "pygments_lexer": "ipython3",
   "version": "3.12.3"
  }
 },
 "nbformat": 4,
 "nbformat_minor": 2
}
